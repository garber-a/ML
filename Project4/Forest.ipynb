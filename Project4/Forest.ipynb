{
 "cells": [
  {
   "cell_type": "code",
   "execution_count": 262,
   "metadata": {},
   "outputs": [],
   "source": [
    "import gym\n",
    "from hiive.mdptoolbox import mdp, example\n",
    "import numpy as np\n",
    "import pandas as pd"
   ]
  },
  {
   "cell_type": "code",
   "execution_count": 128,
   "metadata": {},
   "outputs": [],
   "source": [
    "def forest_starter(S=3, r=1, r2=2, p=0.01):\n",
    "    P = np.zeros((2, S, S))\n",
    "    P[0, :, :] = (1 - p) * np.diag(np.ones(S - 1), 1)\n",
    "    P[0, :, 0] = p\n",
    "    P[0, S - 1, S - 1] = (1 - p)\n",
    "    P[1, :, :] = np.zeros((S, S))\n",
    "    P[1, :, 0] = 1\n",
    "    \n",
    "    R = np.zeros((S, 2))\n",
    "    R[S - 1, 0] = r1\n",
    "    R[:, 1] = np.ones(S)\n",
    "    R[0, 1] = 0\n",
    "    R[S - 1, 1] = r2\n",
    "    \n",
    "    return P,R\n"
   ]
  },
  {
   "cell_type": "code",
   "execution_count": 240,
   "metadata": {},
   "outputs": [],
   "source": [
    "S_list = [3,25,100,500,1000]\n",
    "gamma_list = [0.5,.75,0.99]\n",
    "VI_stats_list_forest = []\n",
    "PI_stats_list_forest = []\n",
    "QL_stats_list_forest = []\n",
    "\n",
    "for S in S_list:\n",
    "    P, R = forest_starter(S=S)\n",
    "    for gamma in gamma_list:\n",
    "        \n",
    "        vi = mdp.ValueIteration(P, R, gamma=gamma)\n",
    "        vi.run()\n",
    "        VI_stats_list_forest.append([S,gamma,vi.run_stats[-1]['Iteration'],vi.run_stats[-1]['Time'],vi.run_stats[-1]['Mean V']])\n",
    "        \n",
    "        pi = mdp.PolicyIteration(P, R, gamma=gamma)\n",
    "        pi.run()\n",
    "        PI_stats_list_forest.append([S,gamma,pi.run_stats[-1]['Iteration'],pi.run_stats[-1]['Time'],pi.run_stats[-1]['Mean V']])\n",
    "        \n",
    "        ql = mdp.QLearning(P, R, gamma=gamma)\n",
    "        ql.run()\n",
    "        QL_stats_list_forest.append([S,gamma,ql.run_stats[-1]['Iteration'],ql.run_stats[-1]['Time'],ql.run_stats[-1]['Mean V']])\n",
    "              "
   ]
  },
  {
   "cell_type": "code",
   "execution_count": 241,
   "metadata": {},
   "outputs": [
    {
     "data": {
      "text/plain": [
       "[[3, 0.5, 10000, 0.4997525215148926, 3.7546964161547662],\n",
       " [3, 0.75, 10000, 0.484025239944458, 4.406299175155886],\n",
       " [3, 0.99, 10000, 0.48139119148254395, 22.714962429088313],\n",
       " [25, 0.5, 10000, 0.4812495708465576, 0.1421340407885137],\n",
       " [25, 0.75, 10000, 0.4913136959075928, 0.22299780523138632],\n",
       " [25, 0.99, 10000, 0.4930129051208496, 0.41297385091059097],\n",
       " [100, 0.5, 10000, 0.492908239364624, 0.030570751642004762],\n",
       " [100, 0.75, 10000, 0.49370288848876953, 0.04696913063806102],\n",
       " [100, 0.99, 10000, 0.5045018196105957, 0.08796903079915384],\n",
       " [500, 0.5, 10000, 0.7370357513427734, 0.006558670061683734],\n",
       " [500, 0.75, 10000, 0.6631848812103271, 0.009351954833361108],\n",
       " [500, 0.99, 10000, 0.6650564670562744, 0.01794276447686283],\n",
       " [1000, 0.5, 10000, 0.9553797245025635, 0.003117135492847514],\n",
       " [1000, 0.75, 10000, 0.9470133781433105, 0.004617596607378818],\n",
       " [1000, 0.99, 10000, 1.0079026222229004, 0.008590038380876061]]"
      ]
     },
     "execution_count": 241,
     "metadata": {},
     "output_type": "execute_result"
    }
   ],
   "source": [
    "QL_stats_list_forest"
   ]
  },
  {
   "cell_type": "code",
   "execution_count": 242,
   "metadata": {},
   "outputs": [],
   "source": [
    "S=25\n",
    "gamma=0.99\n",
    "q_iters_list = [10000,25000,100000,250000,1000000]\n",
    "P, R = forest_starter(S=S)\n",
    "QL_stats_list_iters_forest = []\n",
    "\n",
    "for iters in q_iters_list:\n",
    "    ql_iter = mdp.QLearning(P, R, gamma=gamma, n_iter=iters)\n",
    "    ql_iter.run()\n",
    "    QL_stats_list_iters_forest.append([S,gamma,ql_iter.run_stats[-1]['Iteration'],ql_iter.run_stats[-1]['Time'],ql_iter.run_stats[-1]['Mean V']])"
   ]
  },
  {
   "cell_type": "code",
   "execution_count": 243,
   "metadata": {},
   "outputs": [
    {
     "data": {
      "text/plain": [
       "[[25, 0.99, 10000, 0.5012941360473633, 0.34801419638504916],\n",
       " [25, 0.99, 25000, 0.9049642086029053, 0.7070143145645967],\n",
       " [25, 0.99, 100000, 2.468418598175049, 2.785970885603726],\n",
       " [25, 0.99, 250000, 5.729984998703003, 7.041617720185118],\n",
       " [25, 0.99, 1000000, 22.135645627975464, 19.193275705657726]]"
      ]
     },
     "execution_count": 243,
     "metadata": {},
     "output_type": "execute_result"
    }
   ],
   "source": [
    "QL_stats_list_iters_forest"
   ]
  },
  {
   "cell_type": "code",
   "execution_count": null,
   "metadata": {},
   "outputs": [],
   "source": []
  },
  {
   "cell_type": "code",
   "execution_count": null,
   "metadata": {},
   "outputs": [],
   "source": []
  },
  {
   "cell_type": "code",
   "execution_count": null,
   "metadata": {},
   "outputs": [],
   "source": []
  },
  {
   "cell_type": "code",
   "execution_count": 248,
   "metadata": {},
   "outputs": [],
   "source": [
    "def PR_maker(env):\n",
    "    s = len(env.P)\n",
    "    a = len(env.P[0])\n",
    "\n",
    "    P = np.zeros((a,s,s))\n",
    "    R = np.zeros((s,a))\n",
    "\n",
    "    for state_start, action_dict in env.P.items():\n",
    "        for action, transition_matrix in action_dict.items():\n",
    "                 for transition_tuple in transition_matrix:\n",
    "                    #print(transition_tuple[0])\n",
    "                    P[action][state_start][transition_tuple[1]] += transition_tuple[0]\n",
    "                    R[state_start][action] += transition_tuple[0]*transition_tuple[2]\n",
    "                    \n",
    "    return P, R"
   ]
  },
  {
   "cell_type": "code",
   "execution_count": 249,
   "metadata": {},
   "outputs": [
    {
     "name": "stdout",
     "output_type": "stream",
     "text": [
      "\n",
      "\u001b[41mS\u001b[0mFFF\n",
      "FHFH\n",
      "FFFH\n",
      "HFFG\n"
     ]
    }
   ],
   "source": [
    "env = gym.make('FrozenLake-v0')\n",
    "env.render()"
   ]
  },
  {
   "cell_type": "code",
   "execution_count": 252,
   "metadata": {},
   "outputs": [],
   "source": [
    "env_list = ['FrozenLake-v0','FrozenLake8x8-v0','FrozenLake20x20-v0']\n",
    "gamma_list = [0.01, 0.25, 0.5, 0.75, 0.99]\n",
    "VI_stats_list_lake = []\n",
    "PI_stats_list_lake = []\n",
    "QL_stats_list_lake = []\n",
    "\n",
    "for _env in env_list:\n",
    "    env = gym.make(_env)\n",
    "    P, R = PR_maker(env)\n",
    "    for gamma in gamma_list:\n",
    "        \n",
    "        vi = mdp.ValueIteration(P, R, gamma=gamma)\n",
    "        vi.run()\n",
    "        VI_stats_list_lake.append([_env,gamma,vi.run_stats[-1]['Iteration'],vi.run_stats[-1]['Time'],vi.run_stats[-1]['Mean V']])\n",
    "        \n",
    "        pi = mdp.PolicyIteration(P, R, gamma=gamma)\n",
    "        pi.run()\n",
    "        PI_stats_list_lake.append([_env,gamma,pi.run_stats[-1]['Iteration'],pi.run_stats[-1]['Time'],pi.run_stats[-1]['Mean V']])\n",
    "        \n",
    "        ql = mdp.QLearning(P, R, gamma=gamma)\n",
    "        ql.run()\n",
    "        QL_stats_list_lake.append([_env,gamma,ql.run_stats[-1]['Iteration'],ql.run_stats[-1]['Time'],ql.run_stats[-1]['Mean V']])\n",
    "              "
   ]
  },
  {
   "cell_type": "code",
   "execution_count": 257,
   "metadata": {},
   "outputs": [
    {
     "data": {
      "text/plain": [
       "[['FrozenLake-v0', 0.01, 10000, 0.523979663848877, 0.00031033662618355995],\n",
       " ['FrozenLake-v0', 0.25, 10000, 0.5147817134857178, 0.0005279905375929539],\n",
       " ['FrozenLake-v0', 0.5, 10000, 0.52162766456604, 0.0],\n",
       " ['FrozenLake-v0', 0.75, 10000, 0.5224766731262207, 0.0011573395105686937],\n",
       " ['FrozenLake-v0', 0.99, 10000, 0.514765739440918, 0.0],\n",
       " ['FrozenLake8x8-v0', 0.01, 10000, 0.6458983421325684, 5.208333333333333e-06],\n",
       " ['FrozenLake8x8-v0', 0.25, 10000, 0.6379959583282471, 0.00020774661075364213],\n",
       " ['FrozenLake8x8-v0', 0.5, 10000, 0.6551291942596436, 2.6020838541666664e-05],\n",
       " ['FrozenLake8x8-v0', 0.75, 10000, 0.6352622509002686, 2.082161783675203e-05],\n",
       " ['FrozenLake8x8-v0', 0.99, 10000, 0.646143913269043, 2.082286973499948e-05],\n",
       " ['FrozenLake20x20-v0', 0.01, 10000, 1.4214210510253906, 0.0],\n",
       " ['FrozenLake20x20-v0',\n",
       "  0.25,\n",
       "  10000,\n",
       "  1.5332906246185303,\n",
       "  8.333333333333333e-07],\n",
       " ['FrozenLake20x20-v0', 0.5, 10000, 1.6004881858825684, 0.0],\n",
       " ['FrozenLake20x20-v0',\n",
       "  0.75,\n",
       "  10000,\n",
       "  1.5842812061309814,\n",
       "  8.333333333333333e-05],\n",
       " ['FrozenLake20x20-v0', 0.99, 10000, 1.6331453323364258, 0.0]]"
      ]
     },
     "execution_count": 257,
     "metadata": {},
     "output_type": "execute_result"
    }
   ],
   "source": [
    "QL_stats_list_lake"
   ]
  },
  {
   "cell_type": "code",
   "execution_count": 254,
   "metadata": {},
   "outputs": [],
   "source": [
    "env_val = 'FrozenLake20x20-v0'\n",
    "env = gym.make(env_val)\n",
    "P, R = PR_maker(env)\n",
    "gamma=0.25\n",
    "q_iters_list = [10000,100000,1000000]\n",
    "QL_stats_list_iters_lake = []\n",
    "\n",
    "for iters in q_iters_list:\n",
    "    ql_iter = mdp.QLearning(P, R, gamma=gamma, n_iter=iters)\n",
    "    ql_iter.run()\n",
    "    QL_stats_list_iters_lake.append([S,gamma,ql_iter.run_stats[-1]['Iteration'],ql_iter.run_stats[-1]['Time'],ql_iter.run_stats[-1]['Mean V']])"
   ]
  },
  {
   "cell_type": "code",
   "execution_count": 255,
   "metadata": {},
   "outputs": [
    {
     "data": {
      "text/plain": [
       "[[25, 0.25, 10000, 1.518669605255127, 8.333333333333333e-07],\n",
       " [25, 0.25, 100000, 12.255282878875732, 2.4991666666666663e-06],\n",
       " [25, 0.25, 1000000, 123.86499166488647, 4.2372542480187345e-05]]"
      ]
     },
     "execution_count": 255,
     "metadata": {},
     "output_type": "execute_result"
    }
   ],
   "source": [
    "QL_stats_list_iters_lake"
   ]
  },
  {
   "cell_type": "code",
   "execution_count": 273,
   "metadata": {},
   "outputs": [
    {
     "data": {
      "text/html": [
       "<div>\n",
       "<style scoped>\n",
       "    .dataframe tbody tr th:only-of-type {\n",
       "        vertical-align: middle;\n",
       "    }\n",
       "\n",
       "    .dataframe tbody tr th {\n",
       "        vertical-align: top;\n",
       "    }\n",
       "\n",
       "    .dataframe thead th {\n",
       "        text-align: right;\n",
       "    }\n",
       "</style>\n",
       "<table border=\"1\" class=\"dataframe\">\n",
       "  <thead>\n",
       "    <tr style=\"text-align: right;\">\n",
       "      <th></th>\n",
       "      <th>0</th>\n",
       "      <th>1</th>\n",
       "      <th>2</th>\n",
       "      <th>3</th>\n",
       "      <th>4</th>\n",
       "    </tr>\n",
       "  </thead>\n",
       "  <tbody>\n",
       "    <tr>\n",
       "      <th>0</th>\n",
       "      <td>FrozenLake-v0</td>\n",
       "      <td>0.01</td>\n",
       "      <td>4</td>\n",
       "      <td>0.000000</td>\n",
       "      <td>0.021044</td>\n",
       "    </tr>\n",
       "    <tr>\n",
       "      <th>1</th>\n",
       "      <td>FrozenLake-v0</td>\n",
       "      <td>0.25</td>\n",
       "      <td>4</td>\n",
       "      <td>0.008062</td>\n",
       "      <td>0.027544</td>\n",
       "    </tr>\n",
       "    <tr>\n",
       "      <th>2</th>\n",
       "      <td>FrozenLake-v0</td>\n",
       "      <td>0.50</td>\n",
       "      <td>4</td>\n",
       "      <td>0.000000</td>\n",
       "      <td>0.039839</td>\n",
       "    </tr>\n",
       "    <tr>\n",
       "      <th>3</th>\n",
       "      <td>FrozenLake-v0</td>\n",
       "      <td>0.75</td>\n",
       "      <td>4</td>\n",
       "      <td>0.002052</td>\n",
       "      <td>0.070726</td>\n",
       "    </tr>\n",
       "    <tr>\n",
       "      <th>4</th>\n",
       "      <td>FrozenLake-v0</td>\n",
       "      <td>0.99</td>\n",
       "      <td>1000</td>\n",
       "      <td>0.302321</td>\n",
       "      <td>0.396239</td>\n",
       "    </tr>\n",
       "    <tr>\n",
       "      <th>5</th>\n",
       "      <td>FrozenLake8x8-v0</td>\n",
       "      <td>0.01</td>\n",
       "      <td>8</td>\n",
       "      <td>0.000000</td>\n",
       "      <td>0.010487</td>\n",
       "    </tr>\n",
       "    <tr>\n",
       "      <th>6</th>\n",
       "      <td>FrozenLake8x8-v0</td>\n",
       "      <td>0.25</td>\n",
       "      <td>8</td>\n",
       "      <td>0.000000</td>\n",
       "      <td>0.012664</td>\n",
       "    </tr>\n",
       "    <tr>\n",
       "      <th>7</th>\n",
       "      <td>FrozenLake8x8-v0</td>\n",
       "      <td>0.50</td>\n",
       "      <td>8</td>\n",
       "      <td>0.002052</td>\n",
       "      <td>0.016791</td>\n",
       "    </tr>\n",
       "    <tr>\n",
       "      <th>8</th>\n",
       "      <td>FrozenLake8x8-v0</td>\n",
       "      <td>0.75</td>\n",
       "      <td>8</td>\n",
       "      <td>0.008058</td>\n",
       "      <td>0.027477</td>\n",
       "    </tr>\n",
       "    <tr>\n",
       "      <th>9</th>\n",
       "      <td>FrozenLake8x8-v0</td>\n",
       "      <td>0.99</td>\n",
       "      <td>1000</td>\n",
       "      <td>0.383411</td>\n",
       "      <td>0.337006</td>\n",
       "    </tr>\n",
       "    <tr>\n",
       "      <th>10</th>\n",
       "      <td>FrozenLake20x20-v0</td>\n",
       "      <td>0.01</td>\n",
       "      <td>20</td>\n",
       "      <td>0.082391</td>\n",
       "      <td>0.001681</td>\n",
       "    </tr>\n",
       "    <tr>\n",
       "      <th>11</th>\n",
       "      <td>FrozenLake20x20-v0</td>\n",
       "      <td>0.25</td>\n",
       "      <td>20</td>\n",
       "      <td>0.088303</td>\n",
       "      <td>0.002101</td>\n",
       "    </tr>\n",
       "    <tr>\n",
       "      <th>12</th>\n",
       "      <td>FrozenLake20x20-v0</td>\n",
       "      <td>0.50</td>\n",
       "      <td>20</td>\n",
       "      <td>0.090404</td>\n",
       "      <td>0.002829</td>\n",
       "    </tr>\n",
       "    <tr>\n",
       "      <th>13</th>\n",
       "      <td>FrozenLake20x20-v0</td>\n",
       "      <td>0.75</td>\n",
       "      <td>20</td>\n",
       "      <td>0.098719</td>\n",
       "      <td>0.004376</td>\n",
       "    </tr>\n",
       "    <tr>\n",
       "      <th>14</th>\n",
       "      <td>FrozenLake20x20-v0</td>\n",
       "      <td>0.99</td>\n",
       "      <td>1000</td>\n",
       "      <td>4.542457</td>\n",
       "      <td>0.052714</td>\n",
       "    </tr>\n",
       "  </tbody>\n",
       "</table>\n",
       "</div>"
      ],
      "text/plain": [
       "                     0     1     2         3         4\n",
       "0        FrozenLake-v0  0.01     4  0.000000  0.021044\n",
       "1        FrozenLake-v0  0.25     4  0.008062  0.027544\n",
       "2        FrozenLake-v0  0.50     4  0.000000  0.039839\n",
       "3        FrozenLake-v0  0.75     4  0.002052  0.070726\n",
       "4        FrozenLake-v0  0.99  1000  0.302321  0.396239\n",
       "5     FrozenLake8x8-v0  0.01     8  0.000000  0.010487\n",
       "6     FrozenLake8x8-v0  0.25     8  0.000000  0.012664\n",
       "7     FrozenLake8x8-v0  0.50     8  0.002052  0.016791\n",
       "8     FrozenLake8x8-v0  0.75     8  0.008058  0.027477\n",
       "9     FrozenLake8x8-v0  0.99  1000  0.383411  0.337006\n",
       "10  FrozenLake20x20-v0  0.01    20  0.082391  0.001681\n",
       "11  FrozenLake20x20-v0  0.25    20  0.088303  0.002101\n",
       "12  FrozenLake20x20-v0  0.50    20  0.090404  0.002829\n",
       "13  FrozenLake20x20-v0  0.75    20  0.098719  0.004376\n",
       "14  FrozenLake20x20-v0  0.99  1000  4.542457  0.052714"
      ]
     },
     "execution_count": 273,
     "metadata": {},
     "output_type": "execute_result"
    }
   ],
   "source": [
    "pd.DataFrame(PI_stats_list_lake)"
   ]
  },
  {
   "cell_type": "code",
   "execution_count": null,
   "metadata": {},
   "outputs": [],
   "source": []
  },
  {
   "cell_type": "code",
   "execution_count": 258,
   "metadata": {},
   "outputs": [
    {
     "data": {
      "text/plain": [
       "[[25, 0.25, 10000, 1.518669605255127, 8.333333333333333e-07],\n",
       " [25, 0.25, 100000, 12.255282878875732, 2.4991666666666663e-06],\n",
       " [25, 0.25, 1000000, 123.86499166488647, 4.2372542480187345e-05]]"
      ]
     },
     "execution_count": 258,
     "metadata": {},
     "output_type": "execute_result"
    }
   ],
   "source": [
    "VI_stats_list_forest\n",
    "PI_stats_list_forest\n",
    "QL_stats_list_forest\n",
    "\n",
    "VI_stats_list_lake\n",
    "PI_stats_list_lake\n",
    "QL_stats_list_lake\n",
    "\n",
    "QL_stats_list_iters_forest\n",
    "QL_stats_list_iters_lake\n",
    "\n",
    "\n",
    "\n"
   ]
  },
  {
   "cell_type": "code",
   "execution_count": null,
   "metadata": {},
   "outputs": [],
   "source": []
  }
 ],
 "metadata": {
  "kernelspec": {
   "display_name": "Python 3",
   "language": "python",
   "name": "python3"
  },
  "language_info": {
   "codemirror_mode": {
    "name": "ipython",
    "version": 3
   },
   "file_extension": ".py",
   "mimetype": "text/x-python",
   "name": "python",
   "nbconvert_exporter": "python",
   "pygments_lexer": "ipython3",
   "version": "3.7.3"
  }
 },
 "nbformat": 4,
 "nbformat_minor": 2
}
