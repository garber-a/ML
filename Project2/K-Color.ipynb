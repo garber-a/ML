{
 "cells": [
  {
   "cell_type": "code",
   "execution_count": 5,
   "metadata": {},
   "outputs": [],
   "source": [
    "import mlrose\n",
    "import numpy as np\n",
    "import pandas as pd\n",
    "import time\n",
    "from timeit import default_timer as timer"
   ]
  },
  {
   "cell_type": "code",
   "execution_count": 36,
   "metadata": {},
   "outputs": [
    {
     "data": {
      "text/plain": [
       "(16,)"
      ]
     },
     "execution_count": 36,
     "metadata": {},
     "output_type": "execute_result"
    }
   ],
   "source": [
    "edges = [(0,2), (0,7), (0,11), (1,2), (1,6), (1,9), (1,10), (2,3), (3,7), (3,9), (4,6), (4,7), (4,10),\n",
    "        (5,6), (5,8), (5,9), (8,10), (8, 11), (12,0), (12,9), (12,5), (13,8), (13,10), (13,14), (14,1),\n",
    "        (14,6), (14,3), (15,11), (15,2), (15,7)]\n",
    "init_state = np.array([0,1,0,1,1,1,0,0,1,1,0,0,0,1,1,0])\n",
    "np.shape(init_state)"
   ]
  },
  {
   "cell_type": "code",
   "execution_count": 37,
   "metadata": {},
   "outputs": [],
   "source": [
    "#four peaks\n",
    "fitness = mlrose.MaxKColor(edges)\n",
    "problem = mlrose.DiscreteOpt(length = 16, \n",
    "                             fitness_fn = fitness, \n",
    "                             maximize = True, \n",
    "                             max_val = 2)"
   ]
  },
  {
   "cell_type": "code",
   "execution_count": 38,
   "metadata": {},
   "outputs": [
    {
     "name": "stdout",
     "output_type": "stream",
     "text": [
      "starting run at: Sat Oct 12 16:50:54 2019\n",
      "rhc completed at: Sat Oct 12 16:50:57 2019\n"
     ]
    },
    {
     "data": {
      "text/plain": [
       "[['rhc', 10, 100, 1000, 0.0008262000046670437, 19.0],\n",
       " ['rhc', 10, 250, 2500, 0.0007802999898558483, 19.0],\n",
       " ['rhc', 10, 1000, 10000, 0.0005885999999009073, 19.0],\n",
       " ['rhc', 10, 1000000, 10000000, 0.0005782999942312017, 19.0],\n",
       " ['rhc', 100, 100, 10000, 0.004134699993301183, 24.0],\n",
       " ['rhc', 100, 250, 25000, 0.005476999998791143, 24.0],\n",
       " ['rhc', 100, 1000, 100000, 0.004776100002345629, 24.0],\n",
       " ['rhc', 100, 1000000, 100000000, 0.004902400003629737, 24.0],\n",
       " ['rhc', 1000, 100, 100000, 0.0036219999892637134, 24.0],\n",
       " ['rhc', 1000, 250, 250000, 0.010017799999332055, 24.0],\n",
       " ['rhc', 1000, 1000, 1000000, 0.04113080000388436, 24.0],\n",
       " ['rhc', 1000, 1000000, 1000000000, 0.03952720000233967, 24.0],\n",
       " ['rhc', 100000, 100, 10000000, 0.0039917999965837225, 24.0],\n",
       " ['rhc', 100000, 250, 25000000, 0.009891000008792616, 24.0],\n",
       " ['rhc', 100000, 1000, 100000000, 0.03463290000217967, 24.0],\n",
       " ['rhc', 100000, 1000000, 100000000000, 3.2101213999994798, 24.0]]"
      ]
     },
     "metadata": {},
     "output_type": "display_data"
    }
   ],
   "source": [
    "#random hill climb\n",
    "rhc_list = []\n",
    "max_attempts = [10,100,1000,100000]\n",
    "max_iters = [100,250,1000,1000000]\n",
    "print(\"starting run at: {}\".format(time.ctime()))\n",
    "for attempts in max_attempts:\n",
    "    for iters in max_iters:\n",
    "        t_start = timer()\n",
    "        best_state, best_fitness, best_curve = mlrose.random_hill_climb(problem, \n",
    "                                                                        init_state=init_state, \n",
    "                                                                        random_state=2,\n",
    "                                                                        max_attempts = attempts,\n",
    "                                                                        max_iters = iters)\n",
    "        t_end = timer()\n",
    "        rhc_list.append(['rhc',attempts,iters,attempts*iters,t_end-t_start,best_fitness])\n",
    "  \n",
    "print(\"rhc completed at: {}\".format(time.ctime()))\n",
    "display(rhc_list)"
   ]
  },
  {
   "cell_type": "code",
   "execution_count": 44,
   "metadata": {},
   "outputs": [
    {
     "name": "stdout",
     "output_type": "stream",
     "text": [
      "simulated annealing started at: Sat Oct 12 16:53:50 2019\n",
      "simulated annealing completed at: Sat Oct 12 16:53:50 2019\n"
     ]
    },
    {
     "data": {
      "text/plain": [
       "[['sa', 10, 25, 250, 0.0021145000064279884, 23.0],\n",
       " ['sa', 10, 50, 500, 0.0017469000013079494, 23.0],\n",
       " ['sa', 10, 100, 1000, 0.001541299992823042, 23.0],\n",
       " ['sa', 10, 250, 2500, 0.001763099993695505, 23.0],\n",
       " ['sa', 10, 1000000, 10000000, 0.0017404999962309375, 23.0],\n",
       " ['sa', 100, 25, 2500, 0.0014561999996658415, 23.0],\n",
       " ['sa', 100, 50, 5000, 0.0029753999988315627, 27.0],\n",
       " ['sa', 100, 100, 10000, 0.00584419998631347, 30.0],\n",
       " ['sa', 100, 250, 25000, 0.008576799998991191, 30.0],\n",
       " ['sa', 100, 1000000, 100000000, 0.009858699995675124, 30.0]]"
      ]
     },
     "metadata": {},
     "output_type": "display_data"
    }
   ],
   "source": [
    "#simmulated annealing\n",
    "sa_list = []\n",
    "max_attempts = [10,100]\n",
    "max_iters = [25,50,100,250,1000000]\n",
    "schedule = mlrose.GeomDecay(init_temp=1, decay=0.95, min_temp=0.001)\n",
    "print(\"simulated annealing started at: {}\".format(time.ctime())) \n",
    "for attempts in max_attempts:\n",
    "    for iters in max_iters:        \n",
    "        t_start = timer()\n",
    "        best_state, best_fitness, best_curve = mlrose.simulated_annealing(problem, \n",
    "                                                                        init_state=init_state, \n",
    "                                                                        random_state=2,\n",
    "                                                                        max_attempts = attempts,\n",
    "                                                                        max_iters = iters)\n",
    "        t_end = timer()\n",
    "        sa_list.append(['sa',attempts,iters,attempts*iters,t_end-t_start,best_fitness])\n",
    "        \n",
    "print(\"simulated annealing completed at: {}\".format(time.ctime())) \n",
    "display(sa_list)"
   ]
  },
  {
   "cell_type": "code",
   "execution_count": 40,
   "metadata": {},
   "outputs": [
    {
     "name": "stdout",
     "output_type": "stream",
     "text": [
      "ga started at: Sat Oct 12 16:51:22 2019\n",
      "ga completed at: Sat Oct 12 16:51:24 2019\n"
     ]
    },
    {
     "data": {
      "text/plain": [
       "[['ga', 10, 3, 30, 0.06761810000170954, 27.0],\n",
       " ['ga', 10, 5, 50, 0.10276039999735076, 30.0],\n",
       " ['ga', 10, 10, 100, 0.21262459999707062, 30.0],\n",
       " ['ga', 10, 15, 150, 0.3041743000067072, 30.0],\n",
       " ['ga', 10, 20, 200, 0.317169499990996, 30.0],\n",
       " ['ga', 10, 25, 250, 0.29011760000139475, 30.0]]"
      ]
     },
     "metadata": {},
     "output_type": "display_data"
    }
   ],
   "source": [
    "#genetic algorithm\n",
    "ga_list = []\n",
    "max_attempts = [10]\n",
    "max_iters = [3,5,10,15,20,25]\n",
    "print(\"ga started at: {}\".format(time.ctime()))\n",
    "for attempts in max_attempts:\n",
    "    for iters in max_iters:      \n",
    "        t_start = timer()\n",
    "        best_state, best_fitness, best_curve = mlrose.genetic_alg(problem,  \n",
    "                                                                    random_state=2,\n",
    "                                                                    max_attempts = attempts,\n",
    "                                                                    max_iters = iters)\n",
    "        t_end = timer()\n",
    "        ga_list.append(['ga',attempts,iters,attempts*iters,t_end-t_start,best_fitness])\n",
    "        \n",
    "print(\"ga completed at: {}\".format(time.ctime()))\n",
    "display(ga_list)"
   ]
  },
  {
   "cell_type": "code",
   "execution_count": 41,
   "metadata": {},
   "outputs": [
    {
     "name": "stdout",
     "output_type": "stream",
     "text": [
      "mimic started at: Sat Oct 12 16:51:34 2019\n",
      "mimic completed at: Sat Oct 12 16:51:47 2019\n"
     ]
    },
    {
     "data": {
      "text/plain": [
       "[['mimic', 10, 1, 10, 100, 0.10587619998841546, 24.0],\n",
       " ['mimic', 10, 1, 10, 300, 0.11845979999634437, 30.0],\n",
       " ['mimic', 10, 1, 10, 500, 0.12158190000627656, 30.0],\n",
       " ['mimic', 10, 3, 30, 100, 0.3138665000005858, 30.0],\n",
       " ['mimic', 10, 3, 30, 300, 0.3178957000054652, 30.0],\n",
       " ['mimic', 10, 3, 30, 500, 0.37749210000038147, 30.0],\n",
       " ['mimic', 10, 5, 50, 100, 0.5110544000053778, 30.0],\n",
       " ['mimic', 10, 5, 50, 300, 0.5139340000023367, 30.0],\n",
       " ['mimic', 10, 5, 50, 500, 0.5927910999889718, 30.0],\n",
       " ['mimic', 10, 10, 100, 100, 0.9763492999918526, 30.0],\n",
       " ['mimic', 10, 10, 100, 300, 1.154472900001565, 30.0],\n",
       " ['mimic', 10, 10, 100, 500, 1.1317926999909105, 30.0],\n",
       " ['mimic', 10, 15, 150, 100, 1.1865321999939624, 30.0],\n",
       " ['mimic', 10, 15, 150, 300, 1.1845832999970298, 30.0],\n",
       " ['mimic', 10, 15, 150, 500, 1.2114441000012448, 30.0],\n",
       " ['mimic', 10, 20, 200, 100, 1.1181821000063792, 30.0],\n",
       " ['mimic', 10, 20, 200, 300, 1.1552794000017457, 30.0],\n",
       " ['mimic', 10, 20, 200, 500, 1.1700962000031723, 30.0]]"
      ]
     },
     "metadata": {},
     "output_type": "display_data"
    }
   ],
   "source": [
    "#MIMIC\n",
    "mimic_list = []\n",
    "max_iters = [1,3,5,10,15,20]\n",
    "max_attempts = [10]\n",
    "pop_list = [100,300,500]\n",
    "print(\"mimic started at: {}\".format(time.ctime()))\n",
    "for attempts in max_attempts:\n",
    "    for iters in max_iters: \n",
    "        for pop in pop_list:\n",
    "            t_start = timer()\n",
    "            best_state, best_fitness, best_curve = mlrose.mimic(problem,  \n",
    "                                                                random_state=2,\n",
    "                                                                max_attempts = attempts,\n",
    "                                                                max_iters = iters,\n",
    "                                                               pop_size = pop\n",
    "                                                               )\n",
    "            t_end = timer()\n",
    "            mimic_list.append(['mimic',attempts,iters,attempts*iters,pop,t_end-t_start,best_fitness])\n",
    "        \n",
    "print(\"mimic completed at: {}\".format(time.ctime()))\n",
    "display(mimic_list)"
   ]
  },
  {
   "cell_type": "code",
   "execution_count": null,
   "metadata": {},
   "outputs": [],
   "source": [
    "df_fourpeaks = pd.DataFrame(rhc_list+sa_list+ga_list+mimic_list, \n",
    "                            columns=['algo','max_attempts','max_iters','iter_attempts','fit_time','best_fitness'])\n",
    "print(df_fourpeaks.loc[df_fourpeaks.groupby(['best_fitness','algo'])['iter_attempts'].idxmin()])\n",
    "print(df_fourpeaks.loc[df_fourpeaks.groupby(['best_fitness','algo'])['fit_time'].idxmin()])"
   ]
  }
 ],
 "metadata": {
  "kernelspec": {
   "display_name": "Python 3",
   "language": "python",
   "name": "python3"
  },
  "language_info": {
   "codemirror_mode": {
    "name": "ipython",
    "version": 3
   },
   "file_extension": ".py",
   "mimetype": "text/x-python",
   "name": "python",
   "nbconvert_exporter": "python",
   "pygments_lexer": "ipython3",
   "version": "3.7.3"
  }
 },
 "nbformat": 4,
 "nbformat_minor": 2
}
