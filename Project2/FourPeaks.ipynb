{
 "cells": [
  {
   "cell_type": "code",
   "execution_count": 99,
   "metadata": {},
   "outputs": [],
   "source": [
    "import mlrose\n",
    "import numpy as np\n",
    "import pandas as pd\n",
    "import time\n",
    "from timeit import default_timer as timer\n",
    "from sklearn.model_selection import GridSearchCV"
   ]
  },
  {
   "cell_type": "code",
   "execution_count": 141,
   "metadata": {},
   "outputs": [
    {
     "data": {
      "text/plain": [
       "(32,)"
      ]
     },
     "execution_count": 141,
     "metadata": {},
     "output_type": "execute_result"
    }
   ],
   "source": [
    "init_state = np.array([0,1,1,0,0,0,1,1,0,0,1,1,1,0,0,0,1,1,1,0,0,0,0,1,1,0,1,0,1,0,0,1])\n",
    "np.shape(init_state)"
   ]
  },
  {
   "cell_type": "code",
   "execution_count": 143,
   "metadata": {},
   "outputs": [],
   "source": [
    "#four peaks\n",
    "fitness = mlrose.FourPeaks()\n",
    "problem = mlrose.DiscreteOpt(length = 32, \n",
    "                             fitness_fn = fitness, \n",
    "                             maximize = True, \n",
    "                             max_val = 2)"
   ]
  },
  {
   "cell_type": "code",
   "execution_count": 217,
   "metadata": {},
   "outputs": [],
   "source": [
    "init_state = np.array([0,1,1,0,0,0,1,1,0,0,1,1,1,0,0,0,1,1,1,0,0,0,0,1,1,0,1,0,1,0,0,1,0,1,1,0,0,0,1,1,0,0,1,1,1,0,0,0,1,1,1,0,0,0,0,1,1,0,1,0,1,0,0,1])\n",
    "np.shape(init_state)\n",
    "#four peaks\n",
    "fitness = mlrose.FourPeaks()\n",
    "problem = mlrose.DiscreteOpt(length = 64, \n",
    "                             fitness_fn = fitness, \n",
    "                             maximize = True, \n",
    "                             max_val = 2)"
   ]
  },
  {
   "cell_type": "code",
   "execution_count": 219,
   "metadata": {},
   "outputs": [
    {
     "name": "stdout",
     "output_type": "stream",
     "text": [
      "starting run at: Sun Oct 13 19:04:00 2019\n",
      "rhc completed at: Sun Oct 13 19:04:01 2019\n"
     ]
    },
    {
     "data": {
      "text/plain": [
       "[['rhc', 10, 100, 1000, 0.00026729999808594584, 0.0],\n",
       " ['rhc', 10, 250, 2500, 0.0002513999934308231, 0.0],\n",
       " ['rhc', 10, 1000, 10000, 0.00017850002041086555, 0.0],\n",
       " ['rhc', 10, 1000000, 10000000, 0.00017410004511475563, 0.0],\n",
       " ['rhc', 100, 100, 10000, 0.002451299980748445, 8.0],\n",
       " ['rhc', 100, 250, 25000, 0.00696939998306334, 19.0],\n",
       " ['rhc', 100, 1000, 100000, 0.014509100001305342, 24.0],\n",
       " ['rhc', 100, 1000000, 100000000, 0.010517699993215501, 24.0],\n",
       " ['rhc', 1000, 100, 100000, 0.0024305999977514148, 8.0],\n",
       " ['rhc', 1000, 250, 250000, 0.005168199946638197, 19.0],\n",
       " ['rhc', 1000, 1000, 1000000, 0.022119600034784526, 40.0],\n",
       " ['rhc', 1000, 1000000, 1000000000, 0.06498060002923012, 64.0],\n",
       " ['rhc', 10000, 100, 1000000, 0.0016474000294692814, 8.0],\n",
       " ['rhc', 10000, 250, 2500000, 0.004609900002833456, 19.0],\n",
       " ['rhc', 10000, 1000, 10000000, 0.02173529996071011, 40.0],\n",
       " ['rhc', 10000, 1000000, 10000000000, 0.3176027000299655, 64.0]]"
      ]
     },
     "metadata": {},
     "output_type": "display_data"
    }
   ],
   "source": [
    "#random hill climb\n",
    "rhc_list = []\n",
    "max_attempts = [10,100,1000,10000]\n",
    "max_iters = [100,250,1000,1000000]\n",
    "print(\"starting run at: {}\".format(time.ctime()))\n",
    "for attempts in max_attempts:\n",
    "    for iters in max_iters:\n",
    "        t_start = timer()\n",
    "        best_state, best_fitness, best_curve = mlrose.random_hill_climb(problem, \n",
    "                                                                        init_state=init_state, \n",
    "                                                                        random_state=2,\n",
    "                                                                        max_attempts = attempts,\n",
    "                                                                        max_iters = iters)\n",
    "        t_end = timer()\n",
    "        rhc_list.append(['rhc',attempts,iters,attempts*iters,t_end-t_start,best_fitness])\n",
    "  \n",
    "print(\"rhc completed at: {}\".format(time.ctime()))\n",
    "display(rhc_list)"
   ]
  },
  {
   "cell_type": "code",
   "execution_count": 225,
   "metadata": {},
   "outputs": [
    {
     "name": "stdout",
     "output_type": "stream",
     "text": [
      "simulated annealing started at: Sun Oct 13 19:05:19 2019\n",
      "simulated annealing completed at: Sun Oct 13 19:05:20 2019\n"
     ]
    },
    {
     "data": {
      "text/plain": [
       "[['sa', 10, 25, 250, 0.0008074999786913395, 3.0],\n",
       " ['sa', 10, 50, 500, 0.0015490999794565141, 5.0],\n",
       " ['sa', 10, 100, 1000, 0.003287100000306964, 6.0],\n",
       " ['sa', 10, 150, 1500, 0.005629900027997792, 6.0],\n",
       " ['sa', 10, 250, 2500, 0.007980700000189245, 6.0],\n",
       " ['sa', 10, 1000, 10000, 0.038747599988710135, 47.0],\n",
       " ['sa', 10, 20000, 200000, 0.04006389999995008, 51.0],\n",
       " ['sa', 10, 50000, 500000, 0.035397499974351376, 51.0],\n",
       " ['sa', 10, 100000, 1000000, 0.035279200004879385, 51.0],\n",
       " ['sa', 10, 1000000, 10000000, 0.03518400003667921, 51.0],\n",
       " ['sa', 100, 25, 2500, 0.0006430999492295086, 3.0],\n",
       " ['sa', 100, 50, 5000, 0.001327300036791712, 5.0],\n",
       " ['sa', 100, 100, 10000, 0.0027412999770604074, 6.0],\n",
       " ['sa', 100, 150, 15000, 0.004217599984258413, 6.0],\n",
       " ['sa', 100, 250, 25000, 0.007007499982137233, 6.0],\n",
       " ['sa', 100, 1000, 100000, 0.03318060003221035, 47.0],\n",
       " ['sa', 100, 20000, 2000000, 0.07769140001619235, 64.0],\n",
       " ['sa', 100, 50000, 5000000, 0.0801301000174135, 64.0],\n",
       " ['sa', 100, 100000, 10000000, 0.07660570001462474, 64.0],\n",
       " ['sa', 100, 1000000, 100000000, 0.07695479999529198, 64.0],\n",
       " ['sa', 1000, 25, 25000, 0.0006494999979622662, 3.0],\n",
       " ['sa', 1000, 50, 50000, 0.0013312000082805753, 5.0],\n",
       " ['sa', 1000, 100, 100000, 0.0027676000026986003, 6.0],\n",
       " ['sa', 1000, 150, 150000, 0.004166900005657226, 6.0],\n",
       " ['sa', 1000, 250, 250000, 0.007199999992735684, 6.0],\n",
       " ['sa', 1000, 1000, 1000000, 0.03349199995864183, 47.0],\n",
       " ['sa', 1000, 20000, 20000000, 0.10243590001482517, 64.0],\n",
       " ['sa', 1000, 50000, 50000000, 0.10271910001756623, 64.0],\n",
       " ['sa', 1000, 100000, 100000000, 0.10411359998397529, 64.0],\n",
       " ['sa', 1000, 1000000, 1000000000, 0.10288470005616546, 64.0]]"
      ]
     },
     "metadata": {},
     "output_type": "display_data"
    }
   ],
   "source": [
    "#simmulated annealing\n",
    "sa_list = []\n",
    "max_attempts = [10,100,1000]\n",
    "max_iters = [25,50,100,150,250,1000,20000,50000,100000,1000000]\n",
    "print(\"simulated annealing started at: {}\".format(time.ctime())) \n",
    "for attempts in max_attempts:\n",
    "    for iters in max_iters:        \n",
    "        t_start = timer()\n",
    "        best_state, best_fitness, best_curve = mlrose.simulated_annealing(problem, \n",
    "                                                                        init_state=init_state, \n",
    "                                                                        random_state=2,\n",
    "                                                                        max_attempts = attempts,\n",
    "                                                                        max_iters = iters)\n",
    "        t_end = timer()\n",
    "        sa_list.append(['sa',attempts,iters,attempts*iters,t_end-t_start,best_fitness])\n",
    "        \n",
    "print(\"simulated annealing completed at: {}\".format(time.ctime())) \n",
    "display(sa_list)"
   ]
  },
  {
   "cell_type": "code",
   "execution_count": 228,
   "metadata": {},
   "outputs": [
    {
     "name": "stdout",
     "output_type": "stream",
     "text": [
      "ga started at: Sun Oct 13 19:06:34 2019\n",
      "ga completed at: Sun Oct 13 19:07:08 2019\n"
     ]
    },
    {
     "data": {
      "text/plain": [
       "[['ga', 10, 3, 30, 0.05561939999461174, 12.0],\n",
       " ['ga', 10, 5, 50, 0.08241889998316765, 17.0],\n",
       " ['ga', 10, 10, 100, 0.1650503000128083, 77.0],\n",
       " ['ga', 10, 15, 150, 0.2505978999543004, 84.0],\n",
       " ['ga', 10, 20, 200, 0.3323120000422932, 92.0],\n",
       " ['ga', 10, 25, 250, 0.42631460004486144, 93.0],\n",
       " ['ga', 10, 50, 500, 0.863181299995631, 107.0],\n",
       " ['ga', 10, 100, 1000, 1.5300640999921598, 120.0],\n",
       " ['ga', 10, 1000, 10000, 1.537064799980726, 120.0],\n",
       " ['ga', 10, 10000, 100000, 1.5373478999827057, 120.0],\n",
       " ['ga', 100, 3, 300, 0.04964699997799471, 12.0],\n",
       " ['ga', 100, 5, 500, 0.08146060002036393, 17.0],\n",
       " ['ga', 100, 10, 1000, 0.16278760001296178, 77.0],\n",
       " ['ga', 100, 15, 1500, 0.24687490001088008, 84.0],\n",
       " ['ga', 100, 20, 2000, 0.3307795000146143, 92.0],\n",
       " ['ga', 100, 25, 2500, 0.4197273000027053, 93.0],\n",
       " ['ga', 100, 50, 5000, 0.8634741000132635, 107.0],\n",
       " ['ga', 100, 100, 10000, 1.798208899970632, 120.0],\n",
       " ['ga', 100, 1000, 100000, 3.240223500004504, 120.0],\n",
       " ['ga', 100, 10000, 1000000, 3.2477048999862745, 120.0],\n",
       " ['ga', 250, 3, 750, 0.049846099980641156, 12.0],\n",
       " ['ga', 250, 5, 1250, 0.08214059995952994, 17.0],\n",
       " ['ga', 250, 10, 2500, 0.16412999999010935, 77.0],\n",
       " ['ga', 250, 15, 3750, 0.24772260000463575, 84.0],\n",
       " ['ga', 250, 20, 5000, 0.33421820000512525, 92.0],\n",
       " ['ga', 250, 25, 6250, 0.43811569997342303, 93.0],\n",
       " ['ga', 250, 50, 12500, 0.8929584000143223, 107.0],\n",
       " ['ga', 250, 100, 25000, 1.815089700045064, 120.0],\n",
       " ['ga', 250, 1000, 250000, 6.199948700028472, 120.0],\n",
       " ['ga', 250, 10000, 2500000, 6.091028900002129, 120.0]]"
      ]
     },
     "metadata": {},
     "output_type": "display_data"
    }
   ],
   "source": [
    "#genetic algorithm\n",
    "ga_list = []\n",
    "max_attempts = [10,100,250]\n",
    "max_iters = [3,5,10,15,20,25,50,100,1000,10000]\n",
    "print(\"ga started at: {}\".format(time.ctime()))\n",
    "for attempts in max_attempts:\n",
    "    for iters in max_iters:      \n",
    "        t_start = timer()\n",
    "        best_state, best_fitness, best_curve = mlrose.genetic_alg(problem,  \n",
    "                                                                    random_state=2,\n",
    "                                                                    max_attempts = attempts,\n",
    "                                                                    max_iters = iters)\n",
    "        t_end = timer()\n",
    "        ga_list.append(['ga',attempts,iters,attempts*iters,t_end-t_start,best_fitness])\n",
    "        \n",
    "print(\"ga completed at: {}\".format(time.ctime()))\n",
    "display(ga_list)"
   ]
  },
  {
   "cell_type": "code",
   "execution_count": 234,
   "metadata": {},
   "outputs": [
    {
     "name": "stdout",
     "output_type": "stream",
     "text": [
      "mimic started at: Sun Oct 13 19:45:36 2019\n",
      "mimic completed at: Sun Oct 13 19:49:43 2019\n"
     ]
    },
    {
     "data": {
      "text/plain": [
       "[['mimic', 10, 1, 10, 1.259059299947694, 8.0],\n",
       " ['mimic', 10, 3, 30, 3.965890599996783, 14.0],\n",
       " ['mimic', 10, 5, 50, 6.583275099983439, 77.0],\n",
       " ['mimic', 10, 10, 100, 12.822323000000324, 81.0],\n",
       " ['mimic', 10, 15, 150, 18.91846059996169, 81.0],\n",
       " ['mimic', 10, 20, 200, 25.413992499990854, 81.0],\n",
       " ['mimic', 10, 50, 500, 25.299338400014676, 81.0],\n",
       " ['mimic', 10, 100, 1000, 25.49148409999907, 81.0],\n",
       " ['mimic', 10, 250, 2500, 25.434433299989905, 81.0],\n",
       " ['mimic', 10, 500, 5000, 25.412607799982652, 81.0],\n",
       " ['mimic', 10, 1000, 10000, 25.48336329997983, 81.0],\n",
       " ['mimic', 10, 10000, 100000, 25.350870400026906, 81.0],\n",
       " ['mimic', 10, 50000, 500000, 25.22249290003674, 81.0]]"
      ]
     },
     "metadata": {},
     "output_type": "display_data"
    }
   ],
   "source": [
    "#MIMIC\n",
    "mimic_list = []\n",
    "max_iters = [1,3,5,10,15,20,50,100,250,500,1000,10000,50000]\n",
    "max_attempts = [10]\n",
    "pop_list = [100,300,500]\n",
    "print(\"mimic started at: {}\".format(time.ctime()))\n",
    "for attempts in max_attempts:\n",
    "    for iters in max_iters: \n",
    "        t_start = timer()\n",
    "        best_state, best_fitness, best_curve = mlrose.mimic(problem,  \n",
    "                                                            random_state=2,\n",
    "                                                            max_attempts = attempts,\n",
    "                                                            max_iters = iters,\n",
    "                                                           ##pop_size = pop\n",
    "                                                           )\n",
    "        t_end = timer()\n",
    "        mimic_list.append(['mimic',attempts,iters,attempts*iters,t_end-t_start,best_fitness])\n",
    "        \n",
    "print(\"mimic completed at: {}\".format(time.ctime()))\n",
    "display(mimic_list)"
   ]
  },
  {
   "cell_type": "code",
   "execution_count": null,
   "metadata": {},
   "outputs": [],
   "source": [
    "df_fourpeaks = pd.DataFrame(rhc_list+sa_list+ga_list+mimic_list, \n",
    "                            columns=['algo','max_attempts','max_iters','iter_attempts','fit_time','best_fitness'])\n",
    "print(df_fourpeaks.loc[df_fourpeaks.groupby(['best_fitness','algo'])['iter_attempts'].idxmin()])\n",
    "print(df_fourpeaks.loc[df_fourpeaks.groupby(['best_fitness','algo'])['fit_time'].idxmin()])"
   ]
  }
 ],
 "metadata": {
  "kernelspec": {
   "display_name": "Python 3",
   "language": "python",
   "name": "python3"
  },
  "language_info": {
   "codemirror_mode": {
    "name": "ipython",
    "version": 3
   },
   "file_extension": ".py",
   "mimetype": "text/x-python",
   "name": "python",
   "nbconvert_exporter": "python",
   "pygments_lexer": "ipython3",
   "version": "3.7.3"
  }
 },
 "nbformat": 4,
 "nbformat_minor": 2
}
