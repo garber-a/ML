{
 "cells": [
  {
   "cell_type": "code",
   "execution_count": 2,
   "metadata": {},
   "outputs": [],
   "source": [
    "import mlrose\n",
    "import numpy as np\n",
    "import pandas as pd\n",
    "import time\n",
    "from timeit import default_timer as timer"
   ]
  },
  {
   "cell_type": "code",
   "execution_count": 26,
   "metadata": {},
   "outputs": [
    {
     "data": {
      "text/plain": [
       "(13, 2)"
      ]
     },
     "execution_count": 26,
     "metadata": {},
     "output_type": "execute_result"
    }
   ],
   "source": [
    "coords_list = [(1,1), (4,2), (5,2), (6,4), (4,4), (3,6), (1,5), (2,3), (4,7), (3,1), (2,5), (5,6), (4,0)]\n",
    "init_state = np.array([2,10,4,11,6,1,3,8,12,5,0,7,9])\n",
    "np.shape(coords_list)"
   ]
  },
  {
   "cell_type": "code",
   "execution_count": 27,
   "metadata": {},
   "outputs": [],
   "source": [
    "fitness = mlrose.TravellingSales(coords=coords_list)\n",
    "problem = mlrose.TSPOpt(length = 13, \n",
    "                        fitness_fn = fitness, \n",
    "                        maximize = False)"
   ]
  },
  {
   "cell_type": "code",
   "execution_count": 28,
   "metadata": {},
   "outputs": [
    {
     "name": "stdout",
     "output_type": "stream",
     "text": [
      "starting run at: Sat Oct 12 11:52:24 2019\n",
      "rhc completed at: Sat Oct 12 11:52:36 2019\n"
     ]
    },
    {
     "data": {
      "text/plain": [
       "[['rhc', 10, 100, 1000, 0.009180799999967348, 30.018222155235478],\n",
       " ['rhc', 10, 250, 2500, 0.005489599999918937, 30.018222155235478],\n",
       " ['rhc', 10, 1000, 10000, 0.00560829999994894, 30.018222155235478],\n",
       " ['rhc', 10, 1000000, 10000000, 0.005290600000080303, 30.018222155235478],\n",
       " ['rhc', 100, 100, 10000, 0.013474699999960649, 27.546086200235894],\n",
       " ['rhc', 100, 250, 25000, 0.02332220000016605, 27.546086200235894],\n",
       " ['rhc', 100, 1000, 100000, 0.023304499999994732, 27.546086200235894],\n",
       " ['rhc', 100, 1000000, 100000000, 0.022872700000107216, 27.546086200235894],\n",
       " ['rhc', 1000, 100, 100000, 0.011929600000030405, 27.546086200235894],\n",
       " ['rhc', 1000, 250, 250000, 0.029952500000035798, 27.546086200235894],\n",
       " ['rhc', 1000, 1000, 1000000, 0.12194690000001174, 23.659048552118023],\n",
       " ['rhc', 1000, 1000000, 1000000000, 0.1604942999999821, 23.659048552118023],\n",
       " ['rhc', 100000, 100, 10000000, 0.011953100000027916, 27.546086200235894],\n",
       " ['rhc', 100000, 250, 25000000, 0.029570700000022043, 27.546086200235894],\n",
       " ['rhc', 100000, 1000, 100000000, 0.12010589999999866, 23.659048552118023],\n",
       " ['rhc',\n",
       "  100000,\n",
       "  1000000,\n",
       "  100000000000,\n",
       "  11.584552199999962,\n",
       "  23.659048552118023]]"
      ]
     },
     "metadata": {},
     "output_type": "display_data"
    }
   ],
   "source": [
    "#random hill climb\n",
    "rhc_list = []\n",
    "max_attempts = [10,100,1000,100000]\n",
    "max_iters = [100,250,1000,1000000]\n",
    "print(\"starting run at: {}\".format(time.ctime()))\n",
    "for attempts in max_attempts:\n",
    "    for iters in max_iters:\n",
    "        t_start = timer()\n",
    "        best_state, best_fitness, best_curve = mlrose.random_hill_climb(problem, \n",
    "                                                                        init_state = init_state,\n",
    "                                                                        random_state=2,\n",
    "                                                                        max_attempts = attempts,\n",
    "                                                                        max_iters = iters)\n",
    "        t_end = timer()\n",
    "        rhc_list.append(['rhc',attempts,iters,attempts*iters,t_end-t_start,best_fitness])\n",
    "  \n",
    "print(\"rhc completed at: {}\".format(time.ctime()))\n",
    "display(rhc_list)"
   ]
  },
  {
   "cell_type": "code",
   "execution_count": 35,
   "metadata": {},
   "outputs": [
    {
     "name": "stdout",
     "output_type": "stream",
     "text": [
      "simulated annealing started at: Sat Oct 12 12:07:02 2019\n",
      "simulated annealing completed at: Sat Oct 12 12:07:06 2019\n"
     ]
    },
    {
     "data": {
      "text/plain": [
       "[['sa', 10, 25, 250, 0.005296699999917109, 31.23281726919356],\n",
       " ['sa', 10, 50, 500, 0.007027799999832496, 29.71493657002377],\n",
       " ['sa', 10, 100, 1000, 0.0069163999999091175, 29.71493657002377],\n",
       " ['sa', 10, 250, 2500, 0.006364599999869824, 29.71493657002377],\n",
       " ['sa', 10, 1000, 10000, 0.00777339999990545, 29.71493657002377],\n",
       " ['sa', 10, 10000, 100000, 0.006216600000016115, 29.71493657002377],\n",
       " ['sa', 10, 1000000, 10000000, 0.006397900000138179, 29.71493657002377],\n",
       " ['sa', 100, 25, 2500, 0.0038675000000694126, 31.23281726919356],\n",
       " ['sa', 100, 50, 5000, 0.007213999999976295, 29.71493657002377],\n",
       " ['sa', 100, 100, 10000, 0.013567299999976967, 30.91183251297284],\n",
       " ['sa', 100, 250, 25000, 0.032746400000178255, 27.68961350232851],\n",
       " ['sa', 100, 1000, 100000, 0.05660349999993741, 27.073950245236315],\n",
       " ['sa', 100, 10000, 1000000, 0.05769379999992452, 27.073950245236315],\n",
       " ['sa', 100, 1000000, 100000000, 0.09354510000002847, 27.073950245236315],\n",
       " ['sa', 1000, 25, 25000, 0.003921900000023015, 31.23281726919356],\n",
       " ['sa', 1000, 50, 50000, 0.0070883999999296066, 29.71493657002377],\n",
       " ['sa', 1000, 100, 100000, 0.013775500000065222, 30.91183251297284],\n",
       " ['sa', 1000, 250, 250000, 0.032248299999992014, 27.68961350232851],\n",
       " ['sa', 1000, 1000, 1000000, 0.12626960000011422, 25.546086200235894],\n",
       " ['sa', 1000, 10000, 10000000, 0.18193310000015117, 25.546086200235894],\n",
       " ['sa', 1000, 1000000, 1000000000, 0.18646400000011454, 25.546086200235894],\n",
       " ['sa', 10000, 25, 250000, 0.003779299999905561, 31.23281726919356],\n",
       " ['sa', 10000, 50, 500000, 0.007108799999969051, 29.71493657002377],\n",
       " ['sa', 10000, 100, 1000000, 0.01366280000002007, 30.91183251297284],\n",
       " ['sa', 10000, 250, 2500000, 0.0333651999999347, 27.68961350232851],\n",
       " ['sa', 10000, 1000, 10000000, 0.12669240000013815, 25.546086200235894],\n",
       " ['sa', 10000, 10000, 100000000, 1.2972913999999491, 25.546086200235894],\n",
       " ['sa', 10000, 1000000, 10000000000, 1.3277094999998553, 25.546086200235894]]"
      ]
     },
     "metadata": {},
     "output_type": "display_data"
    }
   ],
   "source": [
    "#simmulated annealing\n",
    "sa_list = []\n",
    "max_attempts = [10,100,1000,10000]\n",
    "max_iters = [25,50,100,250,1000,10000,1000000]\n",
    "print(\"simulated annealing started at: {}\".format(time.ctime())) \n",
    "for attempts in max_attempts:\n",
    "    for iters in max_iters:        \n",
    "        t_start = timer()\n",
    "        best_state, best_fitness, best_curve = mlrose.simulated_annealing(problem, \n",
    "                                                                        init_state=init_state, \n",
    "                                                                        random_state=2,\n",
    "                                                                        max_attempts = attempts,\n",
    "                                                                        max_iters = iters)\n",
    "        t_end = timer()\n",
    "        sa_list.append(['sa',attempts,iters,attempts*iters,t_end-t_start,best_fitness])\n",
    "        \n",
    "print(\"simulated annealing completed at: {}\".format(time.ctime())) \n",
    "display(sa_list)"
   ]
  },
  {
   "cell_type": "code",
   "execution_count": 38,
   "metadata": {},
   "outputs": [
    {
     "name": "stdout",
     "output_type": "stream",
     "text": [
      "ga started at: Sat Oct 12 12:07:53 2019\n",
      "ga completed at: Sat Oct 12 12:08:06 2019\n"
     ]
    },
    {
     "data": {
      "text/plain": [
       "[['ga', 10, 3, 30, 0.1137495999996645, 27.533908551779625],\n",
       " ['ga', 10, 5, 50, 0.1727752000001601, 25.384823019828836],\n",
       " ['ga', 10, 10, 100, 0.3200870999999097, 24.925681479828295],\n",
       " ['ga', 10, 15, 150, 0.47410990000025777, 24.601126159491542],\n",
       " ['ga', 10, 20, 200, 0.6085542000000714, 23.83719413699133],\n",
       " ['ga', 10, 25, 250, 0.751933999999892, 22.60112615949154],\n",
       " ['ga', 10, 100, 1000, 0.925013300000046, 22.60112615949154],\n",
       " ['ga', 10, 100000, 1000000, 0.9224286000003303, 22.60112615949154],\n",
       " ['ga', 100, 3, 300, 0.10586260000036418, 27.533908551779625],\n",
       " ['ga', 100, 5, 500, 0.16536710000036692, 25.384823019828836],\n",
       " ['ga', 100, 10, 1000, 0.31273289999990084, 24.925681479828295],\n",
       " ['ga', 100, 15, 1500, 0.4662113999997928, 24.601126159491542],\n",
       " ['ga', 100, 20, 2000, 0.6031652000001486, 23.83719413699133],\n",
       " ['ga', 100, 25, 2500, 0.7524370000000999, 22.60112615949154],\n",
       " ['ga', 100, 100, 10000, 2.952399299999797, 22.60112615949154],\n",
       " ['ga', 100, 100000, 10000000, 3.5955174999999144, 22.60112615949154]]"
      ]
     },
     "metadata": {},
     "output_type": "display_data"
    }
   ],
   "source": [
    "#genetic algorithm\n",
    "ga_list = []\n",
    "max_attempts = [10,100]\n",
    "max_iters = [3,5,10,15,20,25,100,100000]\n",
    "print(\"ga started at: {}\".format(time.ctime()))\n",
    "for attempts in max_attempts:\n",
    "    for iters in max_iters:      \n",
    "        t_start = timer()\n",
    "        best_state, best_fitness, best_curve = mlrose.genetic_alg(problem,  \n",
    "                                                                    random_state=2,\n",
    "                                                                    max_attempts = attempts,\n",
    "                                                                    max_iters = iters)\n",
    "        t_end = timer()\n",
    "        ga_list.append(['ga',attempts,iters,attempts*iters,t_end-t_start,best_fitness])\n",
    "        \n",
    "print(\"ga completed at: {}\".format(time.ctime()))\n",
    "display(ga_list)"
   ]
  },
  {
   "cell_type": "code",
   "execution_count": 47,
   "metadata": {},
   "outputs": [
    {
     "name": "stdout",
     "output_type": "stream",
     "text": [
      "mimic started at: Sat Oct 12 12:32:28 2019\n",
      "mimic completed at: Sat Oct 12 12:41:32 2019\n"
     ]
    },
    {
     "data": {
      "text/plain": [
       "[['mimic', 10, 1, 10, 300, 0.2226290000003246, 32.226932690319266],\n",
       " ['mimic', 10, 3, 30, 300, 0.6335559999997713, 28.16174945732809],\n",
       " ['mimic', 10, 5, 50, 300, 1.0743914999998196, 27.90981355512337],\n",
       " ['mimic', 10, 10, 100, 300, 2.090160499999911, 27.90981355512337],\n",
       " ['mimic', 10, 15, 150, 300, 2.8994966000000204, 27.90981355512337],\n",
       " ['mimic', 10, 20, 200, 300, 2.8931343000003835, 27.90981355512337],\n",
       " ['mimic', 10, 100, 1000, 300, 2.8696697000000313, 27.90981355512337],\n",
       " ['mimic', 10, 1000, 10000, 300, 2.9724765000000843, 27.90981355512337],\n",
       " ['mimic', 10, 100000, 1000000, 300, 2.8945714000001317, 27.90981355512337],\n",
       " ['mimic', 100, 1, 100, 300, 0.21738300000015442, 32.226932690319266],\n",
       " ['mimic', 100, 3, 300, 300, 0.6290761000000202, 28.16174945732809],\n",
       " ['mimic', 100, 5, 500, 300, 1.0355881000000409, 27.90981355512337],\n",
       " ['mimic', 100, 10, 1000, 300, 2.0857177000002594, 27.90981355512337],\n",
       " ['mimic', 100, 15, 1500, 300, 3.115697000000182, 27.90981355512337],\n",
       " ['mimic', 100, 20, 2000, 300, 4.13542439999992, 27.90981355512337],\n",
       " ['mimic', 100, 100, 10000, 300, 21.43551329999991, 27.90981355512337],\n",
       " ['mimic', 100, 1000, 100000, 300, 22.084916500000418, 27.90981355512337],\n",
       " ['mimic', 100, 100000, 10000000, 300, 22.10970819999966, 27.90981355512337],\n",
       " ['mimic', 1000, 1, 1000, 300, 0.21684449999975186, 32.226932690319266],\n",
       " ['mimic', 1000, 3, 3000, 300, 0.6377314999999726, 28.16174945732809],\n",
       " ['mimic', 1000, 5, 5000, 300, 1.0453178999996453, 27.90981355512337],\n",
       " ['mimic', 1000, 10, 10000, 300, 2.1214419000002636, 27.90981355512337],\n",
       " ['mimic', 1000, 15, 15000, 300, 3.1377425000000585, 27.90981355512337],\n",
       " ['mimic', 1000, 20, 20000, 300, 4.156059700000242, 27.90981355512337],\n",
       " ['mimic', 1000, 100, 100000, 300, 20.59779639999988, 27.90981355512337],\n",
       " ['mimic', 1000, 1000, 1000000, 300, 209.7343050999998, 27.90981355512337],\n",
       " ['mimic', 1000, 100000, 100000000, 300, 206.8742628, 27.90981355512337]]"
      ]
     },
     "metadata": {},
     "output_type": "display_data"
    }
   ],
   "source": [
    "#MIMIC\n",
    "mimic_list = []\n",
    "max_iters = [1,3,5,10,15,20,100,1000,100000]\n",
    "max_attempts = [10,100,1000]\n",
    "print(\"mimic started at: {}\".format(time.ctime()))\n",
    "for attempts in max_attempts:\n",
    "    for iters in max_iters: \n",
    "        t_start = timer()\n",
    "        best_state, best_fitness, best_curve = mlrose.mimic(problem,  \n",
    "                                                            random_state=2,\n",
    "                                                            max_attempts = attempts,\n",
    "                                                            max_iters = iters\n",
    "                                                           )\n",
    "        t_end = timer()\n",
    "        mimic_list.append(['mimic',attempts,iters,attempts*iters,t_end-t_start,best_fitness])\n",
    "        \n",
    "print(\"mimic completed at: {}\".format(time.ctime()))\n",
    "display(mimic_list)"
   ]
  },
  {
   "cell_type": "code",
   "execution_count": null,
   "metadata": {},
   "outputs": [],
   "source": [
    "df_fourpeaks = pd.DataFrame(rhc_list+sa_list+ga_list+mimic_list, \n",
    "                            columns=['algo','max_attempts','max_iters','iter_attempts','fit_time','best_fitness'])\n",
    "print(df_fourpeaks.loc[df_fourpeaks.groupby(['best_fitness','algo'])['iter_attempts'].idxmin()])\n",
    "print(df_fourpeaks.loc[df_fourpeaks.groupby(['best_fitness','algo'])['fit_time'].idxmin()])"
   ]
  }
 ],
 "metadata": {
  "kernelspec": {
   "display_name": "Python 3",
   "language": "python",
   "name": "python3"
  },
  "language_info": {
   "codemirror_mode": {
    "name": "ipython",
    "version": 3
   },
   "file_extension": ".py",
   "mimetype": "text/x-python",
   "name": "python",
   "nbconvert_exporter": "python",
   "pygments_lexer": "ipython3",
   "version": "3.7.3"
  }
 },
 "nbformat": 4,
 "nbformat_minor": 2
}
